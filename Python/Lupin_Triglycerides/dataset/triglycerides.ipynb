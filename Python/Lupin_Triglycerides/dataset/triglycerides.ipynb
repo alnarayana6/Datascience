{
 "cells": [
  {
   "cell_type": "code",
   "execution_count": null,
   "metadata": {},
   "outputs": [],
   "source": [
    "# Reduce data frame to the top 1000 rows and select columns for regression analysis\n",
    "car_df = pd.read_csv(’ToyotaCorolla.csv’)\n"
   ]
  },
  {
   "cell_type": "code",
   "execution_count": null,
   "metadata": {},
   "outputs": [],
   "source": [
    "\n",
    "# create a list of predictor variables by remvoing output variables and text columns\n",
    "excludeColumns = (’Price’, ’Id’, ’Model’, ’Fuel_Type’, ’Color’)\n",
    "predictors = [s for s in car_df.columns if s not in excludeColumns]\n",
    "outcome = ’Price’\n"
   ]
  },
  {
   "cell_type": "code",
   "execution_count": null,
   "metadata": {},
   "outputs": [],
   "source": [
    "\n",
    "# partition data\n",
    "X = car_df[predictors]\n",
    "y = car_df[outcome]\n",
    "train_X, valid_X, train_y, valid_y = train_test_split(X, y, test_size=0.4,\n",
    "                                                    random_state=1)\n"
   ]
  },
  {
   "cell_type": "code",
   "execution_count": null,
   "metadata": {},
   "outputs": [],
   "source": [
    "\n",
    "# train linear regression model\n",
    "reg = LinearRegression()\n",
    "reg.fit(train_X, train_y)\n"
   ]
  },
  {
   "cell_type": "code",
   "execution_count": null,
   "metadata": {},
   "outputs": [],
   "source": [
    "\n",
    "# evaluate performance\n",
    "# training\n",
    "regressionSummary(train_y, reg.predict(train_X))\n",
    "# validation\n",
    "regressionSummary(valid_y, reg.predict(valid_X))"
   ]
  }
 ],
 "metadata": {
  "kernelspec": {
   "display_name": "base",
   "language": "python",
   "name": "python3"
  },
  "language_info": {
   "name": "python",
   "version": "3.11.5"
  }
 },
 "nbformat": 4,
 "nbformat_minor": 2
}
