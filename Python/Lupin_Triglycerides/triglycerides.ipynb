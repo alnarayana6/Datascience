{
 "cells": [
  {
   "cell_type": "code",
   "execution_count": 1,
   "metadata": {},
   "outputs": [],
   "source": [
    "import math\n",
    "import pandas as pd\n",
    "from sklearn.model_selection import train_test_split \n",
    "\n",
    "from sklearn.linear_model import LinearRegression\n",
    "from sklearn.metrics import accuracy_score, roc_curve, auc\n",
    "import matplotlib.pylab as plt\n",
    "\n",
    "from dmba import regressionSummary, classificationSummary\n",
    "from dmba import liftChart, gainsChart"
   ]
  },
  {
   "cell_type": "code",
   "execution_count": 2,
   "metadata": {},
   "outputs": [
    {
     "data": {
      "text/plain": [
       "'.'"
      ]
     },
     "execution_count": 2,
     "metadata": {},
     "output_type": "execute_result"
    }
   ],
   "source": [
    "import os\n",
    "os.chdir(\"C:\\\\Users\\\\alwar\\\\Documents\\\\Datascience\\\\Python\\\\Lupin_Triglycerides\\\\dataset\")\n",
    "os.curdir"
   ]
  },
  {
   "cell_type": "code",
   "execution_count": 3,
   "metadata": {},
   "outputs": [],
   "source": [
    "tgl= pd.read_csv('train.csv')\n"
   ]
  },
  {
   "cell_type": "code",
   "execution_count": 4,
   "metadata": {},
   "outputs": [
    {
     "data": {
      "text/html": [
       "<div>\n",
       "<style scoped>\n",
       "    .dataframe tbody tr th:only-of-type {\n",
       "        vertical-align: middle;\n",
       "    }\n",
       "\n",
       "    .dataframe tbody tr th {\n",
       "        vertical-align: top;\n",
       "    }\n",
       "\n",
       "    .dataframe thead th {\n",
       "        text-align: right;\n",
       "    }\n",
       "</style>\n",
       "<table border=\"1\" class=\"dataframe\">\n",
       "  <thead>\n",
       "    <tr style=\"text-align: right;\">\n",
       "      <th></th>\n",
       "      <th>age</th>\n",
       "      <th>height_in_cm</th>\n",
       "      <th>weight_in_lbs</th>\n",
       "      <th>left_eyesight_lvl</th>\n",
       "      <th>right_eyesight_lvl</th>\n",
       "      <th>blood_pressure_lvl1</th>\n",
       "      <th>blood_pressure_lvl2</th>\n",
       "      <th>glucose_lvl</th>\n",
       "      <th>total_cholestrol</th>\n",
       "      <th>good_cholestrol_lvl</th>\n",
       "      <th>bad_cholestrol_lvl</th>\n",
       "      <th>hemoglobin_lvl</th>\n",
       "      <th>urea_lvl</th>\n",
       "      <th>creatinine_lvl</th>\n",
       "      <th>liver_enzyme_lvl1</th>\n",
       "      <th>liver_enzyme_lvl2</th>\n",
       "      <th>triglyceride_lvl</th>\n",
       "    </tr>\n",
       "  </thead>\n",
       "  <tbody>\n",
       "    <tr>\n",
       "      <th>count</th>\n",
       "      <td>22400.000000</td>\n",
       "      <td>22400.000000</td>\n",
       "      <td>22400.000000</td>\n",
       "      <td>22400.000000</td>\n",
       "      <td>22400.000000</td>\n",
       "      <td>22400.000000</td>\n",
       "      <td>22400.000000</td>\n",
       "      <td>22400.000000</td>\n",
       "      <td>22400.000000</td>\n",
       "      <td>22400.000000</td>\n",
       "      <td>22400.000000</td>\n",
       "      <td>22400.000000</td>\n",
       "      <td>22400.000000</td>\n",
       "      <td>22400.000000</td>\n",
       "      <td>22400.000000</td>\n",
       "      <td>20850.000000</td>\n",
       "      <td>22400.000000</td>\n",
       "    </tr>\n",
       "    <tr>\n",
       "      <th>mean</th>\n",
       "      <td>47.586607</td>\n",
       "      <td>162.689286</td>\n",
       "      <td>139.644081</td>\n",
       "      <td>0.982098</td>\n",
       "      <td>0.978196</td>\n",
       "      <td>122.561473</td>\n",
       "      <td>76.120491</td>\n",
       "      <td>100.578304</td>\n",
       "      <td>195.399554</td>\n",
       "      <td>57.216250</td>\n",
       "      <td>113.063616</td>\n",
       "      <td>14.239942</td>\n",
       "      <td>1.097321</td>\n",
       "      <td>0.859469</td>\n",
       "      <td>25.824598</td>\n",
       "      <td>25.636259</td>\n",
       "      <td>130.173438</td>\n",
       "    </tr>\n",
       "    <tr>\n",
       "      <th>std</th>\n",
       "      <td>14.167025</td>\n",
       "      <td>9.710639</td>\n",
       "      <td>27.550786</td>\n",
       "      <td>0.613311</td>\n",
       "      <td>0.590100</td>\n",
       "      <td>14.581722</td>\n",
       "      <td>9.921338</td>\n",
       "      <td>24.334669</td>\n",
       "      <td>39.042778</td>\n",
       "      <td>55.983373</td>\n",
       "      <td>47.987373</td>\n",
       "      <td>1.563570</td>\n",
       "      <td>0.445315</td>\n",
       "      <td>0.292106</td>\n",
       "      <td>14.968670</td>\n",
       "      <td>20.521723</td>\n",
       "      <td>84.361161</td>\n",
       "    </tr>\n",
       "    <tr>\n",
       "      <th>min</th>\n",
       "      <td>20.000000</td>\n",
       "      <td>125.000000</td>\n",
       "      <td>66.140000</td>\n",
       "      <td>0.100000</td>\n",
       "      <td>0.100000</td>\n",
       "      <td>75.000000</td>\n",
       "      <td>42.000000</td>\n",
       "      <td>51.000000</td>\n",
       "      <td>54.000000</td>\n",
       "      <td>4.000000</td>\n",
       "      <td>1.000000</td>\n",
       "      <td>8.100000</td>\n",
       "      <td>1.000000</td>\n",
       "      <td>0.100000</td>\n",
       "      <td>4.000000</td>\n",
       "      <td>2.000000</td>\n",
       "      <td>1.000000</td>\n",
       "    </tr>\n",
       "    <tr>\n",
       "      <th>25%</th>\n",
       "      <td>35.000000</td>\n",
       "      <td>155.000000</td>\n",
       "      <td>121.250000</td>\n",
       "      <td>0.700000</td>\n",
       "      <td>0.700000</td>\n",
       "      <td>112.000000</td>\n",
       "      <td>70.000000</td>\n",
       "      <td>88.000000</td>\n",
       "      <td>169.000000</td>\n",
       "      <td>46.000000</td>\n",
       "      <td>89.000000</td>\n",
       "      <td>13.200000</td>\n",
       "      <td>1.000000</td>\n",
       "      <td>0.700000</td>\n",
       "      <td>19.000000</td>\n",
       "      <td>15.000000</td>\n",
       "      <td>73.000000</td>\n",
       "    </tr>\n",
       "    <tr>\n",
       "      <th>50%</th>\n",
       "      <td>45.000000</td>\n",
       "      <td>165.000000</td>\n",
       "      <td>132.280000</td>\n",
       "      <td>1.000000</td>\n",
       "      <td>1.000000</td>\n",
       "      <td>121.000000</td>\n",
       "      <td>76.000000</td>\n",
       "      <td>96.000000</td>\n",
       "      <td>193.000000</td>\n",
       "      <td>55.000000</td>\n",
       "      <td>111.000000</td>\n",
       "      <td>14.300000</td>\n",
       "      <td>1.000000</td>\n",
       "      <td>0.800000</td>\n",
       "      <td>23.000000</td>\n",
       "      <td>20.000000</td>\n",
       "      <td>107.000000</td>\n",
       "    </tr>\n",
       "    <tr>\n",
       "      <th>75%</th>\n",
       "      <td>60.000000</td>\n",
       "      <td>170.000000</td>\n",
       "      <td>154.320000</td>\n",
       "      <td>1.200000</td>\n",
       "      <td>1.200000</td>\n",
       "      <td>131.000000</td>\n",
       "      <td>82.000000</td>\n",
       "      <td>105.000000</td>\n",
       "      <td>219.000000</td>\n",
       "      <td>66.000000</td>\n",
       "      <td>135.000000</td>\n",
       "      <td>15.400000</td>\n",
       "      <td>1.000000</td>\n",
       "      <td>1.000000</td>\n",
       "      <td>28.000000</td>\n",
       "      <td>30.000000</td>\n",
       "      <td>159.000000</td>\n",
       "    </tr>\n",
       "    <tr>\n",
       "      <th>max</th>\n",
       "      <td>85.000000</td>\n",
       "      <td>200.000000</td>\n",
       "      <td>286.600000</td>\n",
       "      <td>9.900000</td>\n",
       "      <td>9.900000</td>\n",
       "      <td>230.000000</td>\n",
       "      <td>160.000000</td>\n",
       "      <td>468.000000</td>\n",
       "      <td>1619.000000</td>\n",
       "      <td>8110.000000</td>\n",
       "      <td>5119.000000</td>\n",
       "      <td>18.000000</td>\n",
       "      <td>6.000000</td>\n",
       "      <td>16.400000</td>\n",
       "      <td>911.000000</td>\n",
       "      <td>659.000000</td>\n",
       "      <td>500.000000</td>\n",
       "    </tr>\n",
       "  </tbody>\n",
       "</table>\n",
       "</div>"
      ],
      "text/plain": [
       "                age  height_in_cm  weight_in_lbs  left_eyesight_lvl  \\\n",
       "count  22400.000000  22400.000000   22400.000000       22400.000000   \n",
       "mean      47.586607    162.689286     139.644081           0.982098   \n",
       "std       14.167025      9.710639      27.550786           0.613311   \n",
       "min       20.000000    125.000000      66.140000           0.100000   \n",
       "25%       35.000000    155.000000     121.250000           0.700000   \n",
       "50%       45.000000    165.000000     132.280000           1.000000   \n",
       "75%       60.000000    170.000000     154.320000           1.200000   \n",
       "max       85.000000    200.000000     286.600000           9.900000   \n",
       "\n",
       "       right_eyesight_lvl  blood_pressure_lvl1  blood_pressure_lvl2  \\\n",
       "count        22400.000000         22400.000000         22400.000000   \n",
       "mean             0.978196           122.561473            76.120491   \n",
       "std              0.590100            14.581722             9.921338   \n",
       "min              0.100000            75.000000            42.000000   \n",
       "25%              0.700000           112.000000            70.000000   \n",
       "50%              1.000000           121.000000            76.000000   \n",
       "75%              1.200000           131.000000            82.000000   \n",
       "max              9.900000           230.000000           160.000000   \n",
       "\n",
       "        glucose_lvl  total_cholestrol  good_cholestrol_lvl  \\\n",
       "count  22400.000000      22400.000000         22400.000000   \n",
       "mean     100.578304        195.399554            57.216250   \n",
       "std       24.334669         39.042778            55.983373   \n",
       "min       51.000000         54.000000             4.000000   \n",
       "25%       88.000000        169.000000            46.000000   \n",
       "50%       96.000000        193.000000            55.000000   \n",
       "75%      105.000000        219.000000            66.000000   \n",
       "max      468.000000       1619.000000          8110.000000   \n",
       "\n",
       "       bad_cholestrol_lvl  hemoglobin_lvl      urea_lvl  creatinine_lvl  \\\n",
       "count        22400.000000    22400.000000  22400.000000    22400.000000   \n",
       "mean           113.063616       14.239942      1.097321        0.859469   \n",
       "std             47.987373        1.563570      0.445315        0.292106   \n",
       "min              1.000000        8.100000      1.000000        0.100000   \n",
       "25%             89.000000       13.200000      1.000000        0.700000   \n",
       "50%            111.000000       14.300000      1.000000        0.800000   \n",
       "75%            135.000000       15.400000      1.000000        1.000000   \n",
       "max           5119.000000       18.000000      6.000000       16.400000   \n",
       "\n",
       "       liver_enzyme_lvl1  liver_enzyme_lvl2  triglyceride_lvl  \n",
       "count       22400.000000       20850.000000      22400.000000  \n",
       "mean           25.824598          25.636259        130.173438  \n",
       "std            14.968670          20.521723         84.361161  \n",
       "min             4.000000           2.000000          1.000000  \n",
       "25%            19.000000          15.000000         73.000000  \n",
       "50%            23.000000          20.000000        107.000000  \n",
       "75%            28.000000          30.000000        159.000000  \n",
       "max           911.000000         659.000000        500.000000  "
      ]
     },
     "execution_count": 4,
     "metadata": {},
     "output_type": "execute_result"
    }
   ],
   "source": [
    "tgl.describe()"
   ]
  },
  {
   "cell_type": "code",
   "execution_count": 5,
   "metadata": {},
   "outputs": [
    {
     "name": "stdout",
     "output_type": "stream",
     "text": [
      "<class 'pandas.core.frame.DataFrame'>\n",
      "RangeIndex: 22400 entries, 0 to 22399\n",
      "Data columns (total 24 columns):\n",
      " #   Column               Non-Null Count  Dtype  \n",
      "---  ------               --------------  -----  \n",
      " 0   candidate_id         22400 non-null  object \n",
      " 1   gender               22400 non-null  object \n",
      " 2   age                  22400 non-null  int64  \n",
      " 3   height_in_cm         22400 non-null  int64  \n",
      " 4   weight_in_lbs        22400 non-null  float64\n",
      " 5   left_eyesight_lvl    22400 non-null  float64\n",
      " 6   right_eyesight_lvl   22400 non-null  float64\n",
      " 7   can_hear_left_ear    22400 non-null  object \n",
      " 8   can_hear_right_ear   22400 non-null  object \n",
      " 9   blood_pressure_lvl1  22400 non-null  float64\n",
      " 10  blood_pressure_lvl2  22400 non-null  float64\n",
      " 11  glucose_lvl          22400 non-null  float64\n",
      " 12  total_cholestrol     22400 non-null  float64\n",
      " 13  good_cholestrol_lvl  22400 non-null  float64\n",
      " 14  bad_cholestrol_lvl   22400 non-null  float64\n",
      " 15  hemoglobin_lvl       22400 non-null  float64\n",
      " 16  urea_lvl             22400 non-null  float64\n",
      " 17  creatinine_lvl       22400 non-null  float64\n",
      " 18  liver_enzyme_lvl1    22400 non-null  float64\n",
      " 19  liver_enzyme_lvl2    20850 non-null  float64\n",
      " 20  smoking_habit        20889 non-null  object \n",
      " 21  drinking_habit       20908 non-null  object \n",
      " 22  residential_area     22400 non-null  object \n",
      " 23  triglyceride_lvl     22400 non-null  float64\n",
      "dtypes: float64(15), int64(2), object(7)\n",
      "memory usage: 4.1+ MB\n"
     ]
    }
   ],
   "source": [
    "tgl.info()"
   ]
  },
  {
   "cell_type": "code",
   "execution_count": 6,
   "metadata": {},
   "outputs": [
    {
     "data": {
      "text/plain": [
       "Index(['age', 'height_in_cm', 'weight_in_lbs', 'glucose_lvl',\n",
       "       'triglyceride_lvl', 'gender_Female', 'gender_Male',\n",
       "       'smoking_habit_Chain Smoker', 'smoking_habit_Does not Smoke',\n",
       "       'smoking_habit_Occassionaly Smokes'],\n",
       "      dtype='object')"
      ]
     },
     "execution_count": 6,
     "metadata": {},
     "output_type": "execute_result"
    }
   ],
   "source": [
    "tgl1=tgl[['age','gender','height_in_cm','weight_in_lbs','glucose_lvl','smoking_habit', 'triglyceride_lvl']]\n",
    "tgl2=pd.get_dummies(tgl1)\n",
    "tgl2.keys()\n",
    "\n"
   ]
  },
  {
   "cell_type": "code",
   "execution_count": 7,
   "metadata": {},
   "outputs": [],
   "source": [
    "\n",
    "# partition data\n",
    "X = tgl2[['age', 'height_in_cm', 'weight_in_lbs', 'glucose_lvl', 'gender_Female', 'gender_Male','smoking_habit_Chain Smoker', 'smoking_habit_Does not Smoke','smoking_habit_Occassionaly Smokes']]\n",
    "y = tgl2['triglyceride_lvl']\n",
    "train_X, valid_X, train_y, valid_y = train_test_split(X, y, test_size=0.4,random_state=1)\n"
   ]
  },
  {
   "cell_type": "code",
   "execution_count": 8,
   "metadata": {},
   "outputs": [
    {
     "data": {
      "text/html": [
       "<style>#sk-container-id-1 {color: black;}#sk-container-id-1 pre{padding: 0;}#sk-container-id-1 div.sk-toggleable {background-color: white;}#sk-container-id-1 label.sk-toggleable__label {cursor: pointer;display: block;width: 100%;margin-bottom: 0;padding: 0.3em;box-sizing: border-box;text-align: center;}#sk-container-id-1 label.sk-toggleable__label-arrow:before {content: \"▸\";float: left;margin-right: 0.25em;color: #696969;}#sk-container-id-1 label.sk-toggleable__label-arrow:hover:before {color: black;}#sk-container-id-1 div.sk-estimator:hover label.sk-toggleable__label-arrow:before {color: black;}#sk-container-id-1 div.sk-toggleable__content {max-height: 0;max-width: 0;overflow: hidden;text-align: left;background-color: #f0f8ff;}#sk-container-id-1 div.sk-toggleable__content pre {margin: 0.2em;color: black;border-radius: 0.25em;background-color: #f0f8ff;}#sk-container-id-1 input.sk-toggleable__control:checked~div.sk-toggleable__content {max-height: 200px;max-width: 100%;overflow: auto;}#sk-container-id-1 input.sk-toggleable__control:checked~label.sk-toggleable__label-arrow:before {content: \"▾\";}#sk-container-id-1 div.sk-estimator input.sk-toggleable__control:checked~label.sk-toggleable__label {background-color: #d4ebff;}#sk-container-id-1 div.sk-label input.sk-toggleable__control:checked~label.sk-toggleable__label {background-color: #d4ebff;}#sk-container-id-1 input.sk-hidden--visually {border: 0;clip: rect(1px 1px 1px 1px);clip: rect(1px, 1px, 1px, 1px);height: 1px;margin: -1px;overflow: hidden;padding: 0;position: absolute;width: 1px;}#sk-container-id-1 div.sk-estimator {font-family: monospace;background-color: #f0f8ff;border: 1px dotted black;border-radius: 0.25em;box-sizing: border-box;margin-bottom: 0.5em;}#sk-container-id-1 div.sk-estimator:hover {background-color: #d4ebff;}#sk-container-id-1 div.sk-parallel-item::after {content: \"\";width: 100%;border-bottom: 1px solid gray;flex-grow: 1;}#sk-container-id-1 div.sk-label:hover label.sk-toggleable__label {background-color: #d4ebff;}#sk-container-id-1 div.sk-serial::before {content: \"\";position: absolute;border-left: 1px solid gray;box-sizing: border-box;top: 0;bottom: 0;left: 50%;z-index: 0;}#sk-container-id-1 div.sk-serial {display: flex;flex-direction: column;align-items: center;background-color: white;padding-right: 0.2em;padding-left: 0.2em;position: relative;}#sk-container-id-1 div.sk-item {position: relative;z-index: 1;}#sk-container-id-1 div.sk-parallel {display: flex;align-items: stretch;justify-content: center;background-color: white;position: relative;}#sk-container-id-1 div.sk-item::before, #sk-container-id-1 div.sk-parallel-item::before {content: \"\";position: absolute;border-left: 1px solid gray;box-sizing: border-box;top: 0;bottom: 0;left: 50%;z-index: -1;}#sk-container-id-1 div.sk-parallel-item {display: flex;flex-direction: column;z-index: 1;position: relative;background-color: white;}#sk-container-id-1 div.sk-parallel-item:first-child::after {align-self: flex-end;width: 50%;}#sk-container-id-1 div.sk-parallel-item:last-child::after {align-self: flex-start;width: 50%;}#sk-container-id-1 div.sk-parallel-item:only-child::after {width: 0;}#sk-container-id-1 div.sk-dashed-wrapped {border: 1px dashed gray;margin: 0 0.4em 0.5em 0.4em;box-sizing: border-box;padding-bottom: 0.4em;background-color: white;}#sk-container-id-1 div.sk-label label {font-family: monospace;font-weight: bold;display: inline-block;line-height: 1.2em;}#sk-container-id-1 div.sk-label-container {text-align: center;}#sk-container-id-1 div.sk-container {/* jupyter's `normalize.less` sets `[hidden] { display: none; }` but bootstrap.min.css set `[hidden] { display: none !important; }` so we also need the `!important` here to be able to override the default hidden behavior on the sphinx rendered scikit-learn.org. See: https://github.com/scikit-learn/scikit-learn/issues/21755 */display: inline-block !important;position: relative;}#sk-container-id-1 div.sk-text-repr-fallback {display: none;}</style><div id=\"sk-container-id-1\" class=\"sk-top-container\"><div class=\"sk-text-repr-fallback\"><pre>LinearRegression()</pre><b>In a Jupyter environment, please rerun this cell to show the HTML representation or trust the notebook. <br />On GitHub, the HTML representation is unable to render, please try loading this page with nbviewer.org.</b></div><div class=\"sk-container\" hidden><div class=\"sk-item\"><div class=\"sk-estimator sk-toggleable\"><input class=\"sk-toggleable__control sk-hidden--visually\" id=\"sk-estimator-id-1\" type=\"checkbox\" checked><label for=\"sk-estimator-id-1\" class=\"sk-toggleable__label sk-toggleable__label-arrow\">LinearRegression</label><div class=\"sk-toggleable__content\"><pre>LinearRegression()</pre></div></div></div></div></div>"
      ],
      "text/plain": [
       "LinearRegression()"
      ]
     },
     "execution_count": 8,
     "metadata": {},
     "output_type": "execute_result"
    }
   ],
   "source": [
    "\n",
    "# train linear regression model\n",
    "reg = LinearRegression()\n",
    "reg.fit(train_X, train_y)\n"
   ]
  },
  {
   "cell_type": "code",
   "execution_count": 9,
   "metadata": {},
   "outputs": [
    {
     "name": "stdout",
     "output_type": "stream",
     "text": [
      "\n",
      "Regression statistics\n",
      "\n",
      "                      Mean Error (ME) : -0.0000\n",
      "       Root Mean Squared Error (RMSE) : 69.4138\n",
      "            Mean Absolute Error (MAE) : 50.6619\n",
      "          Mean Percentage Error (MPE) : -20.2345\n",
      "Mean Absolute Percentage Error (MAPE) : 45.8671\n",
      "\n",
      "Regression statistics\n",
      "\n",
      "                      Mean Error (ME) : -0.4420\n",
      "       Root Mean Squared Error (RMSE) : 67.0992\n",
      "            Mean Absolute Error (MAE) : 49.5826\n",
      "          Mean Percentage Error (MPE) : -20.0062\n",
      "Mean Absolute Percentage Error (MAPE) : 45.4933\n"
     ]
    }
   ],
   "source": [
    "\n",
    "# evaluate performance\n",
    "# training\n",
    "regressionSummary(train_y, reg.predict(train_X))\n",
    "# validation\n",
    "regressionSummary(valid_y, reg.predict(valid_X))"
   ]
  },
  {
   "cell_type": "code",
   "execution_count": 10,
   "metadata": {},
   "outputs": [
    {
     "data": {
      "image/png": "[encoded data removed]",
      "text/plain": [
       "<Figure size 900x400 with 3 Axes>"
      ]
     },
     "metadata": {},
     "output_type": "display_data"
    }
   ],
   "source": [
    "\n",
    "\n",
    "pred_error_train = pd.DataFrame({\n",
    "    'residual': train_y - reg.predict(train_X), \n",
    "    'data set': 'training'\n",
    "})\n",
    "pred_error_valid = pd.DataFrame({\n",
    "    'residual': valid_y - reg.predict(valid_X), \n",
    "    'data set': 'validation'\n",
    "})\n",
    "boxdata_df = pd.concat([pred_error_train, pred_error_valid], ignore_index=True)\n",
    "\n",
    "fig, axes = plt.subplots(nrows=1, ncols=3)\n",
    "fig.set_size_inches(9, 4)\n",
    "common = {'bins': 100, 'range': [-6500, 6500]}\n",
    "pred_error_train.hist(ax=axes[0], **common)\n",
    "pred_error_valid.hist(ax=axes[1], **common)\n",
    "boxdata_df.boxplot(ax=axes[2], by='data set')\n",
    "\n",
    "axes[0].set_title('training')\n",
    "axes[1].set_title('validation')\n",
    "axes[2].set_title(' ')\n",
    "axes[2].set_ylim(-6500, 6500)\n",
    "plt.suptitle('Prediction errors')\n",
    " \n",
    "plt.subplots_adjust(bottom=0.1, top=0.85, wspace=0.35)\n",
    "plt.show()"
   ]
  }
 ],
 "metadata": {
  "kernelspec": {
   "display_name": "base",
   "language": "python",
   "name": "python3"
  },
  "language_info": {
   "codemirror_mode": {
    "name": "ipython",
    "version": 3
   },
   "file_extension": ".py",
   "mimetype": "text/x-python",
   "name": "python",
   "nbconvert_exporter": "python",
   "pygments_lexer": "ipython3",
   "version": "3.11.5"
  }
 },
 "nbformat": 4,
 "nbformat_minor": 2
}
