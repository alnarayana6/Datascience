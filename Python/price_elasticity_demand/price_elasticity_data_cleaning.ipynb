{
 "cells": [
  {
   "cell_type": "markdown",
   "id": "cefe030b",
   "metadata": {
    "papermill": {
     "duration": 0.026525,
     "end_time": "2022-05-03T06:58:36.575628",
     "exception": false,
     "start_time": "2022-05-03T06:58:36.549103",
     "status": "completed"
    },
    "tags": []
   },
   "source": [
    "# Demand Price Elasticity\n",
    "\n",
    "Major business and marketers are always keen to know the art behind setting an optimal price point of their product. we often think what could be the factors that a company need to consider while setting a price of product and how we can measure the consumer demand impact towards the price settled? Do the product price changes affect my consumer demand? I have unfolded facts about relationship between sales demand and price fluctuation\n",
    "\n",
    "I have divided this whole analysis into three section.\n",
    "1. Data Cleaning & Pre-processing - [https://www.kaggle.com/code/yugagrawal95/price-elasticity-data-cleaning-part-1]\n",
    "2. Exploratory Data Analysis - [https://www.kaggle.com/code/yugagrawal95/price-elasticity-eda-part-2]\n",
    "3. Price Elasticity Model - [https://www.kaggle.com/code/yugagrawal95/price-elasticity-model-part-3]\n",
    "\n",
    "In case, You are just intrested in EDA or direct modelling related stuff, feel free to use other kernals"
   ]
  },
  {
   "cell_type": "markdown",
   "id": "ac25e454",
   "metadata": {
    "papermill": {
     "duration": 0.02491,
     "end_time": "2022-05-03T06:58:36.625812",
     "exception": false,
     "start_time": "2022-05-03T06:58:36.600902",
     "status": "completed"
    },
    "tags": []
   },
   "source": [
    "### Load all the required packages that will be leveraged in the below code"
   ]
  },
  {
   "cell_type": "code",
   "execution_count": 1,
   "id": "0dbe3257",
   "metadata": {
    "execution": {
     "iopub.execute_input": "2022-05-03T06:58:36.680241Z",
     "iopub.status.busy": "2022-05-03T06:58:36.679467Z",
     "iopub.status.idle": "2022-05-03T06:58:36.694124Z",
     "shell.execute_reply": "2022-05-03T06:58:36.693286Z"
    },
    "papermill": {
     "duration": 0.04572,
     "end_time": "2022-05-03T06:58:36.696599",
     "exception": false,
     "start_time": "2022-05-03T06:58:36.650879",
     "status": "completed"
    },
    "tags": []
   },
   "outputs": [],
   "source": [
    "#load all the libraries...\n",
    "import pandas as pd\n",
    "import numpy as np\n",
    "import re\n",
    "from IPython.display import display, HTML, Image\n",
    "\n",
    "#imported warning to remove extra warning log from code\n",
    "import warnings\n",
    "warnings.filterwarnings('ignore')"
   ]
  },
  {
   "cell_type": "markdown",
   "id": "309352dc",
   "metadata": {
    "papermill": {
     "duration": 0.024702,
     "end_time": "2022-05-03T06:58:36.747225",
     "exception": false,
     "start_time": "2022-05-03T06:58:36.722523",
     "status": "completed"
    },
    "tags": []
   },
   "source": [
    "### Load the data set. Used Electronic product data and I have used Kaggle data set. Link here "
   ]
  },
  {
   "cell_type": "code",
   "execution_count": 4,
   "id": "92159a76",
   "metadata": {
    "execution": {
     "iopub.execute_input": "2022-05-03T06:58:36.801897Z",
     "iopub.status.busy": "2022-05-03T06:58:36.800911Z",
     "iopub.status.idle": "2022-05-03T06:58:39.697902Z",
     "shell.execute_reply": "2022-05-03T06:58:39.696898Z"
    },
    "papermill": {
     "duration": 2.927772,
     "end_time": "2022-05-03T06:58:39.700479",
     "exception": false,
     "start_time": "2022-05-03T06:58:36.772707",
     "status": "completed"
    },
    "tags": []
   },
   "outputs": [],
   "source": [
    "# df = pd.read_csv('DatafinitiElectronicsProductsPricingData.csv')\n",
    "import os\n",
    "os.chdir(\"C:\\\\Users\\\\alwar\\\\Documents\\\\Datascience\\\\Python\\\\price_elasticity_demand\\\\dataset\")\n",
    "df = pd.read_csv('DatafinitiElectronicsProductsPricingData.csv')"
   ]
  },
  {
   "cell_type": "code",
   "execution_count": 5,
   "id": "fcd60793",
   "metadata": {
    "execution": {
     "iopub.execute_input": "2022-05-03T06:58:39.753293Z",
     "iopub.status.busy": "2022-05-03T06:58:39.752972Z",
     "iopub.status.idle": "2022-05-03T06:58:39.758152Z",
     "shell.execute_reply": "2022-05-03T06:58:39.757078Z"
    },
    "papermill": {
     "duration": 0.034394,
     "end_time": "2022-05-03T06:58:39.760317",
     "exception": false,
     "start_time": "2022-05-03T06:58:39.725923",
     "status": "completed"
    },
    "tags": []
   },
   "outputs": [],
   "source": [
    "#Setting the display option to max 500 as our dataset has more than 20 column and it will be hard to see all those with default value\n",
    "pd.options.display.width = 0\n",
    "pd.set_option('display.max_columns', 500)\n",
    "pd.set_option('display.max_rows',500)"
   ]
  },
  {
   "cell_type": "code",
   "execution_count": 6,
   "id": "ad488ccd",
   "metadata": {
    "execution": {
     "iopub.execute_input": "2022-05-03T06:58:39.813286Z",
     "iopub.status.busy": "2022-05-03T06:58:39.812971Z",
     "iopub.status.idle": "2022-05-03T06:58:39.856896Z",
     "shell.execute_reply": "2022-05-03T06:58:39.855586Z"
    },
    "papermill": {
     "duration": 0.075502,
     "end_time": "2022-05-03T06:58:39.861536",
     "exception": false,
     "start_time": "2022-05-03T06:58:39.786034",
     "status": "completed"
    },
    "tags": []
   },
   "outputs": [
    {
     "name": "stdout",
     "output_type": "stream",
     "text": [
      "Total Numbers of Rows in data set 14592\n",
      "Total Numbers of columns in data set 31\n",
      "Costliest Product of data - $26871.0 USD\n",
      "Cheapest Product of data - $1.0 USD\n"
     ]
    },
    {
     "data": {
      "text/html": [
       "<div>\n",
       "<style scoped>\n",
       "    .dataframe tbody tr th:only-of-type {\n",
       "        vertical-align: middle;\n",
       "    }\n",
       "\n",
       "    .dataframe tbody tr th {\n",
       "        vertical-align: top;\n",
       "    }\n",
       "\n",
       "    .dataframe thead th {\n",
       "        text-align: right;\n",
       "    }\n",
       "</style>\n",
       "<table border=\"1\" class=\"dataframe\">\n",
       "  <thead>\n",
       "    <tr style=\"text-align: right;\">\n",
       "      <th></th>\n",
       "      <th>id</th>\n",
       "      <th>prices.amountMax</th>\n",
       "      <th>prices.amountMin</th>\n",
       "      <th>prices.availability</th>\n",
       "      <th>prices.condition</th>\n",
       "      <th>prices.currency</th>\n",
       "      <th>prices.dateSeen</th>\n",
       "      <th>prices.isSale</th>\n",
       "      <th>prices.merchant</th>\n",
       "      <th>prices.shipping</th>\n",
       "      <th>prices.sourceURLs</th>\n",
       "      <th>asins</th>\n",
       "      <th>brand</th>\n",
       "      <th>categories</th>\n",
       "      <th>dateAdded</th>\n",
       "      <th>dateUpdated</th>\n",
       "      <th>ean</th>\n",
       "      <th>imageURLs</th>\n",
       "      <th>keys</th>\n",
       "      <th>manufacturer</th>\n",
       "      <th>manufacturerNumber</th>\n",
       "      <th>name</th>\n",
       "      <th>primaryCategories</th>\n",
       "      <th>sourceURLs</th>\n",
       "      <th>upc</th>\n",
       "      <th>weight</th>\n",
       "      <th>Unnamed: 26</th>\n",
       "      <th>Unnamed: 27</th>\n",
       "      <th>Unnamed: 28</th>\n",
       "      <th>Unnamed: 29</th>\n",
       "      <th>Unnamed: 30</th>\n",
       "    </tr>\n",
       "  </thead>\n",
       "  <tbody>\n",
       "    <tr>\n",
       "      <th>0</th>\n",
       "      <td>AVphzgbJLJeJML43fA0o</td>\n",
       "      <td>104.99</td>\n",
       "      <td>104.99</td>\n",
       "      <td>Yes</td>\n",
       "      <td>New</td>\n",
       "      <td>USD</td>\n",
       "      <td>2017-03-30T06:00:00Z,2017-03-10T22:00:00Z,2017...</td>\n",
       "      <td>False</td>\n",
       "      <td>Bestbuy.com</td>\n",
       "      <td>NaN</td>\n",
       "      <td>http://www.bestbuy.com/site/sanus-tv-wall-moun...</td>\n",
       "      <td>B00C78VIUE</td>\n",
       "      <td>Sanus</td>\n",
       "      <td>Audio &amp; Video Accessories,TV Mounts,TV Accesso...</td>\n",
       "      <td>2015-04-13T12:00:51Z</td>\n",
       "      <td>2018-05-12T18:59:48Z</td>\n",
       "      <td>NaN</td>\n",
       "      <td>https://images-na.ssl-images-amazon.com/images...</td>\n",
       "      <td>sanusvlf410b110inchsuperslimfullmotionmountfor...</td>\n",
       "      <td>NaN</td>\n",
       "      <td>VLF410B1</td>\n",
       "      <td>Sanus VLF410B1 10-Inch Super Slim Full-Motion ...</td>\n",
       "      <td>Electronics</td>\n",
       "      <td>https://www.amazon.com/Sanus-VLF410B1-10-Inch-...</td>\n",
       "      <td>7.93796E+11</td>\n",
       "      <td>32.8 pounds</td>\n",
       "      <td>NaN</td>\n",
       "      <td>NaN</td>\n",
       "      <td>NaN</td>\n",
       "      <td>NaN</td>\n",
       "      <td>NaN</td>\n",
       "    </tr>\n",
       "    <tr>\n",
       "      <th>1</th>\n",
       "      <td>AVpgMuGwLJeJML43KY_c</td>\n",
       "      <td>69.00</td>\n",
       "      <td>64.99</td>\n",
       "      <td>In Stock</td>\n",
       "      <td>New</td>\n",
       "      <td>USD</td>\n",
       "      <td>2017-12-14T06:00:00Z</td>\n",
       "      <td>True</td>\n",
       "      <td>Walmart.com</td>\n",
       "      <td>Expedited</td>\n",
       "      <td>https://www.walmart.com/ip/BOYTONE-BT210FB-BLA...</td>\n",
       "      <td>B018K251JE,B00VILQKQ8</td>\n",
       "      <td>Boytone</td>\n",
       "      <td>Stereos,Portable Bluetooth Speakers,TV, Video ...</td>\n",
       "      <td>2015-05-18T14:14:56Z</td>\n",
       "      <td>2018-06-13T19:39:02Z</td>\n",
       "      <td>NaN</td>\n",
       "      <td>https://images-na.ssl-images-amazon.com/images...</td>\n",
       "      <td>boytone2500w21chhometheatersystemblackdiamond/...</td>\n",
       "      <td>Boytone</td>\n",
       "      <td>BT-210F</td>\n",
       "      <td>Boytone - 2500W 2.1-Ch. Home Theater System - ...</td>\n",
       "      <td>Electronics</td>\n",
       "      <td>http://reviews.bestbuy.com/3545/4784804/review...</td>\n",
       "      <td>6.42015E+11</td>\n",
       "      <td>14 pounds</td>\n",
       "      <td>NaN</td>\n",
       "      <td>NaN</td>\n",
       "      <td>NaN</td>\n",
       "      <td>NaN</td>\n",
       "      <td>NaN</td>\n",
       "    </tr>\n",
       "  </tbody>\n",
       "</table>\n",
       "</div>"
      ],
      "text/plain": [
       "                     id  prices.amountMax  prices.amountMin  \\\n",
       "0  AVphzgbJLJeJML43fA0o            104.99            104.99   \n",
       "1  AVpgMuGwLJeJML43KY_c             69.00             64.99   \n",
       "\n",
       "  prices.availability prices.condition prices.currency  \\\n",
       "0                 Yes              New             USD   \n",
       "1            In Stock              New             USD   \n",
       "\n",
       "                                     prices.dateSeen  prices.isSale  \\\n",
       "0  2017-03-30T06:00:00Z,2017-03-10T22:00:00Z,2017...          False   \n",
       "1                               2017-12-14T06:00:00Z           True   \n",
       "\n",
       "  prices.merchant prices.shipping  \\\n",
       "0     Bestbuy.com             NaN   \n",
       "1     Walmart.com       Expedited   \n",
       "\n",
       "                                   prices.sourceURLs                  asins  \\\n",
       "0  http://www.bestbuy.com/site/sanus-tv-wall-moun...             B00C78VIUE   \n",
       "1  https://www.walmart.com/ip/BOYTONE-BT210FB-BLA...  B018K251JE,B00VILQKQ8   \n",
       "\n",
       "     brand                                         categories  \\\n",
       "0    Sanus  Audio & Video Accessories,TV Mounts,TV Accesso...   \n",
       "1  Boytone  Stereos,Portable Bluetooth Speakers,TV, Video ...   \n",
       "\n",
       "              dateAdded           dateUpdated  ean  \\\n",
       "0  2015-04-13T12:00:51Z  2018-05-12T18:59:48Z  NaN   \n",
       "1  2015-05-18T14:14:56Z  2018-06-13T19:39:02Z  NaN   \n",
       "\n",
       "                                           imageURLs  \\\n",
       "0  https://images-na.ssl-images-amazon.com/images...   \n",
       "1  https://images-na.ssl-images-amazon.com/images...   \n",
       "\n",
       "                                                keys manufacturer  \\\n",
       "0  sanusvlf410b110inchsuperslimfullmotionmountfor...          NaN   \n",
       "1  boytone2500w21chhometheatersystemblackdiamond/...      Boytone   \n",
       "\n",
       "  manufacturerNumber                                               name  \\\n",
       "0           VLF410B1  Sanus VLF410B1 10-Inch Super Slim Full-Motion ...   \n",
       "1            BT-210F  Boytone - 2500W 2.1-Ch. Home Theater System - ...   \n",
       "\n",
       "  primaryCategories                                         sourceURLs  \\\n",
       "0       Electronics  https://www.amazon.com/Sanus-VLF410B1-10-Inch-...   \n",
       "1       Electronics  http://reviews.bestbuy.com/3545/4784804/review...   \n",
       "\n",
       "           upc       weight Unnamed: 26 Unnamed: 27  Unnamed: 28 Unnamed: 29  \\\n",
       "0  7.93796E+11  32.8 pounds         NaN         NaN          NaN         NaN   \n",
       "1  6.42015E+11    14 pounds         NaN         NaN          NaN         NaN   \n",
       "\n",
       "  Unnamed: 30  \n",
       "0         NaN  \n",
       "1         NaN  "
      ]
     },
     "execution_count": 6,
     "metadata": {},
     "output_type": "execute_result"
    }
   ],
   "source": [
    "#Some General Things before starting..\n",
    "print(\"Total Numbers of Rows in data set\",df.shape[0])\n",
    "print(\"Total Numbers of columns in data set\",df.shape[1])\n",
    "print(f\"Costliest Product of data - ${df['prices.amountMax'].max()} USD\")\n",
    "print(f\"Cheapest Product of data - ${df['prices.amountMax'].min()} USD\")\n",
    "\n",
    "df.head(2)"
   ]
  },
  {
   "cell_type": "code",
   "execution_count": 7,
   "id": "843de2d4",
   "metadata": {
    "execution": {
     "iopub.execute_input": "2022-05-03T06:58:39.922243Z",
     "iopub.status.busy": "2022-05-03T06:58:39.921881Z",
     "iopub.status.idle": "2022-05-03T06:58:39.995960Z",
     "shell.execute_reply": "2022-05-03T06:58:39.995043Z"
    },
    "papermill": {
     "duration": 0.109347,
     "end_time": "2022-05-03T06:58:39.998685",
     "exception": false,
     "start_time": "2022-05-03T06:58:39.889338",
     "status": "completed"
    },
    "tags": []
   },
   "outputs": [
    {
     "data": {
      "text/html": [
       "<div>\n",
       "<style scoped>\n",
       "    .dataframe tbody tr th:only-of-type {\n",
       "        vertical-align: middle;\n",
       "    }\n",
       "\n",
       "    .dataframe tbody tr th {\n",
       "        vertical-align: top;\n",
       "    }\n",
       "\n",
       "    .dataframe thead th {\n",
       "        text-align: right;\n",
       "    }\n",
       "</style>\n",
       "<table border=\"1\" class=\"dataframe\">\n",
       "  <thead>\n",
       "    <tr style=\"text-align: right;\">\n",
       "      <th></th>\n",
       "      <th>id</th>\n",
       "      <th>prices.amountMax</th>\n",
       "      <th>prices.amountMin</th>\n",
       "      <th>prices.availability</th>\n",
       "      <th>prices.condition</th>\n",
       "      <th>prices.currency</th>\n",
       "      <th>prices.dateSeen</th>\n",
       "      <th>prices.isSale</th>\n",
       "      <th>prices.merchant</th>\n",
       "      <th>prices.shipping</th>\n",
       "      <th>prices.sourceURLs</th>\n",
       "      <th>asins</th>\n",
       "      <th>brand</th>\n",
       "      <th>categories</th>\n",
       "      <th>dateAdded</th>\n",
       "      <th>dateUpdated</th>\n",
       "      <th>ean</th>\n",
       "      <th>imageURLs</th>\n",
       "      <th>keys</th>\n",
       "      <th>manufacturer</th>\n",
       "      <th>manufacturerNumber</th>\n",
       "      <th>name</th>\n",
       "      <th>primaryCategories</th>\n",
       "      <th>sourceURLs</th>\n",
       "      <th>upc</th>\n",
       "      <th>weight</th>\n",
       "      <th>Unnamed: 26</th>\n",
       "      <th>Unnamed: 27</th>\n",
       "      <th>Unnamed: 28</th>\n",
       "      <th>Unnamed: 29</th>\n",
       "      <th>Unnamed: 30</th>\n",
       "    </tr>\n",
       "  </thead>\n",
       "  <tbody>\n",
       "    <tr>\n",
       "      <th>Null value%</th>\n",
       "      <td>0.0</td>\n",
       "      <td>0.0</td>\n",
       "      <td>0.0</td>\n",
       "      <td>13.19216</td>\n",
       "      <td>9.614857</td>\n",
       "      <td>0.0</td>\n",
       "      <td>0.0</td>\n",
       "      <td>0.0</td>\n",
       "      <td>5.29057</td>\n",
       "      <td>39.740954</td>\n",
       "      <td>0.0</td>\n",
       "      <td>0.0</td>\n",
       "      <td>0.0</td>\n",
       "      <td>0.0</td>\n",
       "      <td>0.0</td>\n",
       "      <td>0.0</td>\n",
       "      <td>71.162281</td>\n",
       "      <td>0.0</td>\n",
       "      <td>0.0</td>\n",
       "      <td>47.793311</td>\n",
       "      <td>0.0</td>\n",
       "      <td>0.0</td>\n",
       "      <td>0.0</td>\n",
       "      <td>0.0</td>\n",
       "      <td>0.0</td>\n",
       "      <td>0.0</td>\n",
       "      <td>99.73273</td>\n",
       "      <td>99.876645</td>\n",
       "      <td>99.958882</td>\n",
       "      <td>99.917763</td>\n",
       "      <td>99.958882</td>\n",
       "    </tr>\n",
       "    <tr>\n",
       "      <th>data_type</th>\n",
       "      <td>object</td>\n",
       "      <td>float64</td>\n",
       "      <td>float64</td>\n",
       "      <td>object</td>\n",
       "      <td>object</td>\n",
       "      <td>object</td>\n",
       "      <td>object</td>\n",
       "      <td>bool</td>\n",
       "      <td>object</td>\n",
       "      <td>object</td>\n",
       "      <td>object</td>\n",
       "      <td>object</td>\n",
       "      <td>object</td>\n",
       "      <td>object</td>\n",
       "      <td>object</td>\n",
       "      <td>object</td>\n",
       "      <td>object</td>\n",
       "      <td>object</td>\n",
       "      <td>object</td>\n",
       "      <td>object</td>\n",
       "      <td>object</td>\n",
       "      <td>object</td>\n",
       "      <td>object</td>\n",
       "      <td>object</td>\n",
       "      <td>object</td>\n",
       "      <td>object</td>\n",
       "      <td>object</td>\n",
       "      <td>object</td>\n",
       "      <td>float64</td>\n",
       "      <td>object</td>\n",
       "      <td>object</td>\n",
       "    </tr>\n",
       "  </tbody>\n",
       "</table>\n",
       "</div>"
      ],
      "text/plain": [
       "                 id prices.amountMax prices.amountMin prices.availability  \\\n",
       "Null value%     0.0              0.0              0.0            13.19216   \n",
       "data_type    object          float64          float64              object   \n",
       "\n",
       "            prices.condition prices.currency prices.dateSeen prices.isSale  \\\n",
       "Null value%         9.614857             0.0             0.0           0.0   \n",
       "data_type             object          object          object          bool   \n",
       "\n",
       "            prices.merchant prices.shipping prices.sourceURLs   asins   brand  \\\n",
       "Null value%         5.29057       39.740954               0.0     0.0     0.0   \n",
       "data_type            object          object            object  object  object   \n",
       "\n",
       "            categories dateAdded dateUpdated        ean imageURLs    keys  \\\n",
       "Null value%        0.0       0.0         0.0  71.162281       0.0     0.0   \n",
       "data_type       object    object      object     object    object  object   \n",
       "\n",
       "            manufacturer manufacturerNumber    name primaryCategories  \\\n",
       "Null value%    47.793311                0.0     0.0               0.0   \n",
       "data_type         object             object  object            object   \n",
       "\n",
       "            sourceURLs     upc  weight Unnamed: 26 Unnamed: 27 Unnamed: 28  \\\n",
       "Null value%        0.0     0.0     0.0    99.73273   99.876645   99.958882   \n",
       "data_type       object  object  object      object      object     float64   \n",
       "\n",
       "            Unnamed: 29 Unnamed: 30  \n",
       "Null value%   99.917763   99.958882  \n",
       "data_type        object      object  "
      ]
     },
     "execution_count": 7,
     "metadata": {},
     "output_type": "execute_result"
    }
   ],
   "source": [
    "# Check the column level Null %\n",
    "# Check data Type of each of the column\n",
    "temp_df = pd.DataFrame((df.isnull().sum()/df.shape[0])*100,columns=['Null value%'])\n",
    "temp_df['data_type'] = df.dtypes\n",
    "temp_df.T"
   ]
  },
  {
   "cell_type": "code",
   "execution_count": 8,
   "id": "abb0ec4d",
   "metadata": {
    "execution": {
     "iopub.execute_input": "2022-05-03T06:58:40.057329Z",
     "iopub.status.busy": "2022-05-03T06:58:40.056283Z",
     "iopub.status.idle": "2022-05-03T06:58:40.118568Z",
     "shell.execute_reply": "2022-05-03T06:58:40.117829Z"
    },
    "papermill": {
     "duration": 0.094277,
     "end_time": "2022-05-03T06:58:40.121048",
     "exception": false,
     "start_time": "2022-05-03T06:58:40.026771",
     "status": "completed"
    },
    "tags": []
   },
   "outputs": [],
   "source": [
    "# Price Availbility has been categorized in 3 terms -\n",
    "# - Present or in stock - Yes, Not present - No, Special order - Special\n",
    "\n",
    "df['prices.availability'] = np.where(df['prices.availability'].str.contains('Yes|TRUE|In Stock|yes|available', flags=re.IGNORECASE), \"Yes\",\n",
    "                 np.where(df['prices.availability'].str.contains('No|sold|FALSE|Retired|Discontinued', flags=re.IGNORECASE), \"No\",\n",
    "                 np.where(df['prices.availability'].str.contains('Special Order|More on the Way|More Coming Soon', flags=re.IGNORECASE), \"Special\",np.NaN\n",
    "                 )))"
   ]
  },
  {
   "cell_type": "code",
   "execution_count": 9,
   "id": "ba7acd56",
   "metadata": {
    "execution": {
     "iopub.execute_input": "2022-05-03T06:58:40.178863Z",
     "iopub.status.busy": "2022-05-03T06:58:40.178140Z",
     "iopub.status.idle": "2022-05-03T06:58:40.226727Z",
     "shell.execute_reply": "2022-05-03T06:58:40.225722Z"
    },
    "papermill": {
     "duration": 0.080528,
     "end_time": "2022-05-03T06:58:40.229320",
     "exception": false,
     "start_time": "2022-05-03T06:58:40.148792",
     "status": "completed"
    },
    "tags": []
   },
   "outputs": [],
   "source": [
    "# We can use this column and extract the condition of the proudct\n",
    "# It is either New, Used or Refurbished \n",
    "# df['prices.condition'].unique() \n",
    "\n",
    "df.loc[df['prices.condition'].str.contains('new',flags=re.IGNORECASE) == True,\"prices.condition\"] = 'New'\n",
    "df.loc[df['prices.condition'].str.contains('refurbished',flags=re.IGNORECASE) == True,\"prices.condition\"] = 'Refurbished'\n",
    "df.loc[df['prices.condition'].str.contains('pre-owned|used',flags=re.IGNORECASE) == True,\"prices.condition\"] = 'Used'"
   ]
  },
  {
   "cell_type": "markdown",
   "id": "a99a121e",
   "metadata": {
    "papermill": {
     "duration": 0.028129,
     "end_time": "2022-05-03T06:58:40.285522",
     "exception": false,
     "start_time": "2022-05-03T06:58:40.257393",
     "status": "completed"
    },
    "tags": []
   },
   "source": [
    "### Impression count calculation\n",
    "\n",
    "Here we don't have impression count or quantity sold but our end goal is to check impact of price in quantity. so we need create this feature.\n",
    "dateseen is number of times product has been seen in that day/week/month etc. Hence lets assume every seen is 1 quantity sold.\n",
    "\n",
    "Steps - Split the dateseen and count the length of dates that serves as impression\n",
    "\n",
    "Also, convert date seen into date column so we can utilize its date component"
   ]
  },
  {
   "cell_type": "code",
   "execution_count": 10,
   "id": "3195597d",
   "metadata": {
    "execution": {
     "iopub.execute_input": "2022-05-03T06:58:40.343249Z",
     "iopub.status.busy": "2022-05-03T06:58:40.342515Z",
     "iopub.status.idle": "2022-05-03T06:58:40.392888Z",
     "shell.execute_reply": "2022-05-03T06:58:40.391916Z"
    },
    "papermill": {
     "duration": 0.082861,
     "end_time": "2022-05-03T06:58:40.396094",
     "exception": false,
     "start_time": "2022-05-03T06:58:40.313233",
     "status": "completed"
    },
    "tags": []
   },
   "outputs": [],
   "source": [
    "Impression_count=[]\n",
    "for i in df['prices.dateSeen']:\n",
    "    time_= i.split(\",\")\n",
    "    Impression_count.append(len(time_))\n",
    "\n",
    "df['Impression'] = Impression_count\n",
    "\n",
    "df['prices.dateSeen'] = df['prices.dateSeen'].apply(lambda x: x.split(\",\")[0])\n",
    "df['prices.dateSeen'] = pd.to_datetime(df['prices.dateSeen'])"
   ]
  },
  {
   "cell_type": "code",
   "execution_count": 11,
   "id": "dd3090ad",
   "metadata": {
    "execution": {
     "iopub.execute_input": "2022-05-03T06:58:40.454527Z",
     "iopub.status.busy": "2022-05-03T06:58:40.454171Z",
     "iopub.status.idle": "2022-05-03T06:58:40.463237Z",
     "shell.execute_reply": "2022-05-03T06:58:40.462494Z"
    },
    "papermill": {
     "duration": 0.041149,
     "end_time": "2022-05-03T06:58:40.465428",
     "exception": false,
     "start_time": "2022-05-03T06:58:40.424279",
     "status": "completed"
    },
    "tags": []
   },
   "outputs": [],
   "source": [
    "# we noticed some anamolies while we checked isSale column, \n",
    "# Analogy is if isSale is true then Actual Price != Discount Price because there would be some discount in sale\n",
    "#if isSale is False then Actual Price == Discount Price because there won't be any discount in sale\n",
    "\n",
    "\n",
    "df.loc[((df['prices.amountMax'] != df['prices.amountMin']) & (df['prices.isSale'] == False)),\"prices.isSale\"] = True\n",
    "df.loc[((df['prices.amountMax'] == df['prices.amountMin']) & (df['prices.isSale'] == True)),\"prices.isSale\"] = False"
   ]
  },
  {
   "cell_type": "markdown",
   "id": "803e8d5a",
   "metadata": {
    "papermill": {
     "duration": 0.027778,
     "end_time": "2022-05-03T06:58:40.521395",
     "exception": false,
     "start_time": "2022-05-03T06:58:40.493617",
     "status": "completed"
    },
    "tags": []
   },
   "source": [
    "### Merchant Imputation\n",
    "\n",
    "From SourceURLs we can extract merchant information"
   ]
  },
  {
   "cell_type": "code",
   "execution_count": 12,
   "id": "cc023899",
   "metadata": {
    "execution": {
     "iopub.execute_input": "2022-05-03T06:58:40.580008Z",
     "iopub.status.busy": "2022-05-03T06:58:40.578964Z",
     "iopub.status.idle": "2022-05-03T06:58:40.608366Z",
     "shell.execute_reply": "2022-05-03T06:58:40.607416Z"
    },
    "papermill": {
     "duration": 0.061566,
     "end_time": "2022-05-03T06:58:40.611032",
     "exception": false,
     "start_time": "2022-05-03T06:58:40.549466",
     "status": "completed"
    },
    "tags": []
   },
   "outputs": [],
   "source": [
    "# df[df['prices.merchant'].isnull()]\n",
    "def Source_to_Merchant(x):\n",
    "   try:\n",
    "    return x.split(\"www.\")[1].split(\"/\")[0]\n",
    "   except:\n",
    "    if len(x)>0:\n",
    "        return x.split(\"//\")[1].split(\".com\")[0]\n",
    "    return x\n",
    "\n",
    "df['prices.sourceURLs'] = df['prices.sourceURLs'].apply(lambda x: Source_to_Merchant(x))\n",
    "df.loc[df['prices.merchant'].isnull(),'prices.merchant'] = df['prices.sourceURLs']"
   ]
  },
  {
   "cell_type": "code",
   "execution_count": 13,
   "id": "829ac53a",
   "metadata": {
    "execution": {
     "iopub.execute_input": "2022-05-03T06:58:40.670389Z",
     "iopub.status.busy": "2022-05-03T06:58:40.669537Z",
     "iopub.status.idle": "2022-05-03T06:58:40.875736Z",
     "shell.execute_reply": "2022-05-03T06:58:40.874772Z"
    },
    "papermill": {
     "duration": 0.238897,
     "end_time": "2022-05-03T06:58:40.878650",
     "exception": false,
     "start_time": "2022-05-03T06:58:40.639753",
     "status": "completed"
    },
    "tags": []
   },
   "outputs": [],
   "source": [
    "#Setting merchant to a finite list as most of the chunk is covered by these big vendors only\n",
    "\n",
    "df['prices.merchant'] = np.where(df['prices.merchant'].str.contains('bhphotovideo', flags=re.IGNORECASE), \"bhphotovideo.com\",\n",
    "                 np.where(df['prices.merchant'].str.contains('eBay|e bay', flags=re.IGNORECASE), \"ebay.com\",\n",
    "                 np.where(df['prices.merchant'].str.contains('Amazon',flags=re.IGNORECASE), \"Amazon.com\", \n",
    "                 np.where(df['prices.merchant'].str.contains('Bestbuy',flags=re.IGNORECASE), \"Bestbuy.com\",\n",
    "                 np.where(df['prices.merchant'].str.contains('Homedepot',flags=re.IGNORECASE), \"homedepot.com\",\n",
    "                 np.where(df['prices.merchant'].str.contains('newegg',flags=re.IGNORECASE), \"newegg.com\",\n",
    "                 np.where(df['prices.merchant'].str.contains('kmart',flags=re.IGNORECASE), \"kmart.com\",\n",
    "                 np.where(df['prices.merchant'].str.contains('frys',flags=re.IGNORECASE), \"frys.com\",\n",
    "                 np.where(df['prices.merchant'].str.contains('cdw',flags=re.IGNORECASE), \"cdw.com\",\n",
    "                 np.where(df['prices.merchant'].str.contains('target',flags=re.IGNORECASE), \"target.com\",\n",
    "                 np.where(df['prices.merchant'].str.contains('overstock',flags=re.IGNORECASE), \"overstock.com\",\n",
    "                 np.where(df['prices.merchant'].str.contains('barcodable',flags=re.IGNORECASE), \"barcodable.com\",\n",
    "                 np.where(df['prices.merchant'].str.contains('kohls',flags=re.IGNORECASE), \"kohls.com\",\n",
    "                 np.where(df['prices.merchant'].str.contains('sears',flags=re.IGNORECASE), \"sears.com\",\n",
    "                 np.where(df['prices.merchant'].str.contains('Wal-mart|Walmart',flags=re.IGNORECASE), \"Walmart.com\",\"Other\")))))))))))))))"
   ]
  },
  {
   "cell_type": "code",
   "execution_count": 14,
   "id": "e7094937",
   "metadata": {
    "execution": {
     "iopub.execute_input": "2022-05-03T06:58:40.938227Z",
     "iopub.status.busy": "2022-05-03T06:58:40.937513Z",
     "iopub.status.idle": "2022-05-03T06:58:40.968378Z",
     "shell.execute_reply": "2022-05-03T06:58:40.967371Z"
    },
    "papermill": {
     "duration": 0.063594,
     "end_time": "2022-05-03T06:58:40.971019",
     "exception": false,
     "start_time": "2022-05-03T06:58:40.907425",
     "status": "completed"
    },
    "tags": []
   },
   "outputs": [],
   "source": [
    "#convert date with date time features, currently it is in string type\n",
    "\n",
    "df['dateAdded'] = pd.to_datetime(df['dateAdded'])\n",
    "df['dateUpdated'] = pd.to_datetime(df['dateUpdated'])"
   ]
  },
  {
   "cell_type": "code",
   "execution_count": 15,
   "id": "590f9a35",
   "metadata": {
    "execution": {
     "iopub.execute_input": "2022-05-03T06:58:41.031621Z",
     "iopub.status.busy": "2022-05-03T06:58:41.030950Z",
     "iopub.status.idle": "2022-05-03T06:58:41.053318Z",
     "shell.execute_reply": "2022-05-03T06:58:41.052475Z"
    },
    "papermill": {
     "duration": 0.055169,
     "end_time": "2022-05-03T06:58:41.055761",
     "exception": false,
     "start_time": "2022-05-03T06:58:41.000592",
     "status": "completed"
    },
    "tags": []
   },
   "outputs": [],
   "source": [
    "#Engineer Country Variable based on the currency\n",
    "\n",
    "df['Country']= np.where(df['prices.currency'] == 'USD','USA',\n",
    "np.where(df['prices.currency'] == 'CAD',\"Canada\",\n",
    "np.where(df['prices.currency'] == 'SGD',\"Singapore\",\n",
    "np.where(df['prices.currency'] == 'EUR',\"EUROPE\",\n",
    "np.where(df['prices.currency'] == 'GBP',\"UK\",\"Other\"\n",
    ")))))"
   ]
  },
  {
   "cell_type": "code",
   "execution_count": 17,
   "id": "c12295c2",
   "metadata": {
    "execution": {
     "iopub.execute_input": "2022-05-03T06:58:41.117111Z",
     "iopub.status.busy": "2022-05-03T06:58:41.116492Z",
     "iopub.status.idle": "2022-05-03T06:58:41.155778Z",
     "shell.execute_reply": "2022-05-03T06:58:41.154675Z"
    },
    "papermill": {
     "duration": 0.072549,
     "end_time": "2022-05-03T06:58:41.158444",
     "exception": false,
     "start_time": "2022-05-03T06:58:41.085895",
     "status": "completed"
    },
    "tags": []
   },
   "outputs": [],
   "source": [
    "#Convert weight into KG, currently weights are in various format so to bring in same scale\n",
    "# KG = Pounds*0.453592 = lbs*0.453592 = oz*0.453592\n",
    "\n",
    "weight_list = []\n",
    "for x in df['weight'].to_list():  \n",
    "    if ((x.find('lb') !=-1) or (x.find('lbs') !=-1) ):\n",
    "        try:\n",
    "            weight_list.append(float(x.split(\"lbs\")[0].strip())*0.453592)\n",
    "        except:\n",
    "            try:\n",
    "                weight_list.append(float(x.split(\"lb\")[0].strip())*0.453592)\n",
    "            except:\n",
    "                weight_list.append(np.NaN)\n",
    "    elif 'pounds' in x:\n",
    "        weight_list.append(float(x.split(\"pounds\")[0].strip())*0.453592)\n",
    "    elif 'ounces' in x:\n",
    "        weight_list.append(float(x.split(\"ounces\")[0].strip())*0.453592)\n",
    "    elif 'oz' in x:\n",
    "        weight_list.append(float(x.split(\"oz\")[0].strip())*0.453592)\n",
    "    elif (('Kg' in x) or ('kg' in x)) :\n",
    "        try:\n",
    "            weight_list.append(float(x.split(\"Kg\")[0].strip()))\n",
    "        except:\n",
    "            weight_list.append(float(x.split(\"kg\")[0].strip()))\n",
    "    elif 'g' in x:\n",
    "        try:\n",
    "            weight_list.append(float(x.split(\"g\")[0].strip())/1000)\n",
    "        except:\n",
    "            weight_list.append(np.NaN)  \n",
    "    else:\n",
    "        weight_list.append(np.NaN)\n",
    "\n",
    "df['weight_in_kg'] = weight_list"
   ]
  },
  {
   "cell_type": "markdown",
   "id": "da17abc2",
   "metadata": {
    "papermill": {
     "duration": 0.028852,
     "end_time": "2022-05-03T06:58:41.217123",
     "exception": false,
     "start_time": "2022-05-03T06:58:41.188271",
     "status": "completed"
    },
    "tags": []
   },
   "source": [
    "### Importing Data set with category name and cluster\n",
    "\n",
    "Category Name and cluster has been defined using TF-IDF vectorizer functionality. If you need detail for that, reach out to me"
   ]
  },
  {
   "cell_type": "code",
   "execution_count": 20,
   "id": "73b1fd3b",
   "metadata": {
    "execution": {
     "iopub.execute_input": "2022-05-03T06:58:41.278127Z",
     "iopub.status.busy": "2022-05-03T06:58:41.277488Z",
     "iopub.status.idle": "2022-05-03T06:58:42.573691Z",
     "shell.execute_reply": "2022-05-03T06:58:42.572615Z"
    },
    "papermill": {
     "duration": 1.330078,
     "end_time": "2022-05-03T06:58:42.576506",
     "exception": false,
     "start_time": "2022-05-03T06:58:41.246428",
     "status": "completed"
    },
    "tags": []
   },
   "outputs": [],
   "source": [
    "# category_name = pd.read_csv('DatafinitiElectronicsProductsPricingData_with_category.csv')\n",
    "category_name = pd.read_csv('DatafinitiElectronicsProductsPricingData_with_category.csv')"
   ]
  },
  {
   "cell_type": "code",
   "execution_count": 21,
   "id": "d35530ca",
   "metadata": {
    "execution": {
     "iopub.execute_input": "2022-05-03T06:58:42.637303Z",
     "iopub.status.busy": "2022-05-03T06:58:42.636937Z",
     "iopub.status.idle": "2022-05-03T06:58:42.645016Z",
     "shell.execute_reply": "2022-05-03T06:58:42.643970Z"
    },
    "papermill": {
     "duration": 0.041487,
     "end_time": "2022-05-03T06:58:42.647458",
     "exception": false,
     "start_time": "2022-05-03T06:58:42.605971",
     "status": "completed"
    },
    "tags": []
   },
   "outputs": [],
   "source": [
    "df['Cluster'] = category_name['Cluster']\n",
    "df['Category_name'] = category_name['Category_name']"
   ]
  },
  {
   "cell_type": "code",
   "execution_count": 25,
   "id": "55927036",
   "metadata": {
    "execution": {
     "iopub.execute_input": "2022-05-03T06:58:42.709167Z",
     "iopub.status.busy": "2022-05-03T06:58:42.708825Z",
     "iopub.status.idle": "2022-05-03T06:58:42.715525Z",
     "shell.execute_reply": "2022-05-03T06:58:42.714405Z"
    },
    "papermill": {
     "duration": 0.040776,
     "end_time": "2022-05-03T06:58:42.718649",
     "exception": false,
     "start_time": "2022-05-03T06:58:42.677873",
     "status": "completed"
    },
    "tags": []
   },
   "outputs": [],
   "source": [
    "#Renaming the column name\n",
    "\n",
    "df.rename(columns={'prices.amountMax':'Actual_price',\n",
    "'prices.amountMin':'Discount_price',\n",
    "'prices.availability':'Product_availability',\n",
    "'prices.condition':'Condition',\n",
    "'prices.currency':'Currency',\n",
    "'prices.isSale':'isSale',\n",
    "'prices.merchant':'merchant',\n",
    "'prices.dateSeen':'Date',\n",
    "'categories':'Description'\n",
    "},inplace=True)\n"
   ]
  },
  {
   "cell_type": "code",
   "execution_count": 23,
   "id": "4fd8eac3",
   "metadata": {
    "execution": {
     "iopub.execute_input": "2022-05-03T06:58:42.780129Z",
     "iopub.status.busy": "2022-05-03T06:58:42.779330Z",
     "iopub.status.idle": "2022-05-03T06:58:42.809152Z",
     "shell.execute_reply": "2022-05-03T06:58:42.808271Z"
    },
    "papermill": {
     "duration": 0.063631,
     "end_time": "2022-05-03T06:58:42.811865",
     "exception": false,
     "start_time": "2022-05-03T06:58:42.748234",
     "status": "completed"
    },
    "tags": []
   },
   "outputs": [],
   "source": [
    "#Select important features that we are using ahead..\n",
    "\n",
    "Sub_df = df[['id','Actual_price','Discount_price','Product_availability','Condition','Currency','Country',\n",
    "'Date','isSale','merchant','brand','Description','Category_name','primaryCategories','name','weight_in_kg','Impression']]"
   ]
  },
  {
   "cell_type": "code",
   "execution_count": 26,
   "id": "5620bd28",
   "metadata": {
    "execution": {
     "iopub.execute_input": "2022-05-03T06:58:42.874765Z",
     "iopub.status.busy": "2022-05-03T06:58:42.874339Z",
     "iopub.status.idle": "2022-05-03T06:58:43.181650Z",
     "shell.execute_reply": "2022-05-03T06:58:43.180422Z"
    },
    "papermill": {
     "duration": 0.342517,
     "end_time": "2022-05-03T06:58:43.185684",
     "exception": false,
     "start_time": "2022-05-03T06:58:42.843167",
     "status": "completed"
    },
    "tags": []
   },
   "outputs": [],
   "source": [
    "#Generate date level feature such as day, month, week, month name etc.\n",
    "\n",
    "Sub_df['Day'] = Sub_df['Date'].dt.day\n",
    "Sub_df['Month'] = Sub_df['Date'].dt.month\n",
    "Sub_df['Year'] = Sub_df['Date'].dt.year\n",
    "Sub_df['Week'] = Sub_df['Date'].dt.dayofweek\n",
    "Sub_df['Month_Name'] = Sub_df['Date'].dt.strftime('%B')\n",
    "Sub_df['Day_Name'] = Sub_df['Date'].dt.strftime('%A')\n",
    "Sub_df['Formatted_date'] = pd.to_datetime(Sub_df['Date'].dt.date)"
   ]
  },
  {
   "cell_type": "code",
   "execution_count": 27,
   "id": "b31b3b3c",
   "metadata": {
    "execution": {
     "iopub.execute_input": "2022-05-03T06:58:43.268221Z",
     "iopub.status.busy": "2022-05-03T06:58:43.267666Z",
     "iopub.status.idle": "2022-05-03T06:58:43.277029Z",
     "shell.execute_reply": "2022-05-03T06:58:43.276025Z"
    },
    "papermill": {
     "duration": 0.046773,
     "end_time": "2022-05-03T06:58:43.279300",
     "exception": false,
     "start_time": "2022-05-03T06:58:43.232527",
     "status": "completed"
    },
    "tags": []
   },
   "outputs": [],
   "source": [
    "#Calculate the discount percentage based on the Actual & Discounting price\n",
    "Sub_df['Disc_Per'] = ((Sub_df['Actual_price'] - Sub_df['Discount_price'])/Sub_df['Actual_price'])*100"
   ]
  },
  {
   "cell_type": "code",
   "execution_count": 28,
   "id": "86626507",
   "metadata": {
    "execution": {
     "iopub.execute_input": "2022-05-03T06:58:43.343496Z",
     "iopub.status.busy": "2022-05-03T06:58:43.342644Z",
     "iopub.status.idle": "2022-05-03T06:58:43.351217Z",
     "shell.execute_reply": "2022-05-03T06:58:43.350499Z"
    },
    "papermill": {
     "duration": 0.045208,
     "end_time": "2022-05-03T06:58:43.355220",
     "exception": false,
     "start_time": "2022-05-03T06:58:43.310012",
     "status": "completed"
    },
    "tags": []
   },
   "outputs": [],
   "source": [
    "# We can generate Total sales as well based on Impression and Discount price\n",
    "Sub_df['Total_sale'] = Sub_df['Impression'] * Sub_df['Discount_price']"
   ]
  },
  {
   "cell_type": "code",
   "execution_count": 29,
   "id": "45c632da",
   "metadata": {
    "execution": {
     "iopub.execute_input": "2022-05-03T06:58:43.427734Z",
     "iopub.status.busy": "2022-05-03T06:58:43.426550Z",
     "iopub.status.idle": "2022-05-03T06:58:43.486148Z",
     "shell.execute_reply": "2022-05-03T06:58:43.485559Z"
    },
    "papermill": {
     "duration": 0.096447,
     "end_time": "2022-05-03T06:58:43.489267",
     "exception": false,
     "start_time": "2022-05-03T06:58:43.392820",
     "status": "completed"
    },
    "tags": []
   },
   "outputs": [
    {
     "data": {
      "text/html": [
       "<div>\n",
       "<style scoped>\n",
       "    .dataframe tbody tr th:only-of-type {\n",
       "        vertical-align: middle;\n",
       "    }\n",
       "\n",
       "    .dataframe tbody tr th {\n",
       "        vertical-align: top;\n",
       "    }\n",
       "\n",
       "    .dataframe thead th {\n",
       "        text-align: right;\n",
       "    }\n",
       "</style>\n",
       "<table border=\"1\" class=\"dataframe\">\n",
       "  <thead>\n",
       "    <tr style=\"text-align: right;\">\n",
       "      <th></th>\n",
       "      <th>id</th>\n",
       "      <th>Actual_price</th>\n",
       "      <th>Discount_price</th>\n",
       "      <th>Product_availability</th>\n",
       "      <th>Condition</th>\n",
       "      <th>Currency</th>\n",
       "      <th>Country</th>\n",
       "      <th>Date</th>\n",
       "      <th>isSale</th>\n",
       "      <th>merchant</th>\n",
       "      <th>brand</th>\n",
       "      <th>Description</th>\n",
       "      <th>Category_name</th>\n",
       "      <th>primaryCategories</th>\n",
       "      <th>name</th>\n",
       "      <th>weight_in_kg</th>\n",
       "      <th>Impression</th>\n",
       "      <th>Day</th>\n",
       "      <th>Month</th>\n",
       "      <th>Year</th>\n",
       "      <th>Week</th>\n",
       "      <th>Month_Name</th>\n",
       "      <th>Day_Name</th>\n",
       "      <th>Formatted_date</th>\n",
       "      <th>Disc_Per</th>\n",
       "      <th>Total_sale</th>\n",
       "    </tr>\n",
       "  </thead>\n",
       "  <tbody>\n",
       "    <tr>\n",
       "      <th>Null value%</th>\n",
       "      <td>0.0</td>\n",
       "      <td>0.0</td>\n",
       "      <td>0.0</td>\n",
       "      <td>0.0</td>\n",
       "      <td>9.614857</td>\n",
       "      <td>0.0</td>\n",
       "      <td>0.0</td>\n",
       "      <td>0.0</td>\n",
       "      <td>0.0</td>\n",
       "      <td>0.0</td>\n",
       "      <td>0.0</td>\n",
       "      <td>0.0</td>\n",
       "      <td>0.0</td>\n",
       "      <td>0.0</td>\n",
       "      <td>0.0</td>\n",
       "      <td>0.452303</td>\n",
       "      <td>0.0</td>\n",
       "      <td>0.0</td>\n",
       "      <td>0.0</td>\n",
       "      <td>0.0</td>\n",
       "      <td>0.0</td>\n",
       "      <td>0.0</td>\n",
       "      <td>0.0</td>\n",
       "      <td>0.0</td>\n",
       "      <td>0.0</td>\n",
       "      <td>0.0</td>\n",
       "    </tr>\n",
       "    <tr>\n",
       "      <th>data_type</th>\n",
       "      <td>object</td>\n",
       "      <td>float64</td>\n",
       "      <td>float64</td>\n",
       "      <td>object</td>\n",
       "      <td>object</td>\n",
       "      <td>object</td>\n",
       "      <td>object</td>\n",
       "      <td>datetime64[ns, UTC]</td>\n",
       "      <td>bool</td>\n",
       "      <td>object</td>\n",
       "      <td>object</td>\n",
       "      <td>object</td>\n",
       "      <td>object</td>\n",
       "      <td>object</td>\n",
       "      <td>object</td>\n",
       "      <td>float64</td>\n",
       "      <td>int64</td>\n",
       "      <td>int32</td>\n",
       "      <td>int32</td>\n",
       "      <td>int32</td>\n",
       "      <td>int32</td>\n",
       "      <td>object</td>\n",
       "      <td>object</td>\n",
       "      <td>datetime64[ns]</td>\n",
       "      <td>float64</td>\n",
       "      <td>float64</td>\n",
       "    </tr>\n",
       "  </tbody>\n",
       "</table>\n",
       "</div>"
      ],
      "text/plain": [
       "                 id Actual_price Discount_price Product_availability  \\\n",
       "Null value%     0.0          0.0            0.0                  0.0   \n",
       "data_type    object      float64        float64               object   \n",
       "\n",
       "            Condition Currency Country                 Date isSale merchant  \\\n",
       "Null value%  9.614857      0.0     0.0                  0.0    0.0      0.0   \n",
       "data_type      object   object  object  datetime64[ns, UTC]   bool   object   \n",
       "\n",
       "              brand Description Category_name primaryCategories    name  \\\n",
       "Null value%     0.0         0.0           0.0               0.0     0.0   \n",
       "data_type    object      object        object            object  object   \n",
       "\n",
       "            weight_in_kg Impression    Day  Month   Year   Week Month_Name  \\\n",
       "Null value%     0.452303        0.0    0.0    0.0    0.0    0.0        0.0   \n",
       "data_type        float64      int64  int32  int32  int32  int32     object   \n",
       "\n",
       "            Day_Name  Formatted_date Disc_Per Total_sale  \n",
       "Null value%      0.0             0.0      0.0        0.0  \n",
       "data_type     object  datetime64[ns]  float64    float64  "
      ]
     },
     "execution_count": 29,
     "metadata": {},
     "output_type": "execute_result"
    }
   ],
   "source": [
    "#Final check in data types and Null values\n",
    "temp_df = pd.DataFrame((Sub_df.isnull().sum()/Sub_df.shape[0])*100,columns=['Null value%'])\n",
    "temp_df['data_type'] = Sub_df.dtypes\n",
    "temp_df.T"
   ]
  },
  {
   "cell_type": "code",
   "execution_count": 30,
   "id": "d611273d",
   "metadata": {
    "execution": {
     "iopub.execute_input": "2022-05-03T06:58:43.560236Z",
     "iopub.status.busy": "2022-05-03T06:58:43.559484Z",
     "iopub.status.idle": "2022-05-03T06:58:43.623549Z",
     "shell.execute_reply": "2022-05-03T06:58:43.622693Z"
    },
    "papermill": {
     "duration": 0.101047,
     "end_time": "2022-05-03T06:58:43.626915",
     "exception": false,
     "start_time": "2022-05-03T06:58:43.525868",
     "status": "completed"
    },
    "tags": []
   },
   "outputs": [],
   "source": [
    "#Remove duplicates \n",
    "Sub_df = Sub_df[~Sub_df.duplicated()]"
   ]
  },
  {
   "cell_type": "code",
   "execution_count": 31,
   "id": "441120ff",
   "metadata": {
    "execution": {
     "iopub.execute_input": "2022-05-03T06:58:43.699943Z",
     "iopub.status.busy": "2022-05-03T06:58:43.699529Z",
     "iopub.status.idle": "2022-05-03T06:58:43.710524Z",
     "shell.execute_reply": "2022-05-03T06:58:43.709552Z"
    },
    "papermill": {
     "duration": 0.048111,
     "end_time": "2022-05-03T06:58:43.713036",
     "exception": false,
     "start_time": "2022-05-03T06:58:43.664925",
     "status": "completed"
    },
    "tags": []
   },
   "outputs": [],
   "source": [
    "#Drop date column as we have extracted all the date features\n",
    "Sub_df.drop(columns=['Date'],inplace=True)"
   ]
  },
  {
   "cell_type": "code",
   "execution_count": 32,
   "id": "23ba43f8",
   "metadata": {
    "execution": {
     "iopub.execute_input": "2022-05-03T06:58:43.779831Z",
     "iopub.status.busy": "2022-05-03T06:58:43.779507Z",
     "iopub.status.idle": "2022-05-03T06:58:44.362326Z",
     "shell.execute_reply": "2022-05-03T06:58:44.361427Z"
    },
    "papermill": {
     "duration": 0.619912,
     "end_time": "2022-05-03T06:58:44.365037",
     "exception": false,
     "start_time": "2022-05-03T06:58:43.745125",
     "status": "completed"
    },
    "tags": []
   },
   "outputs": [],
   "source": [
    "# Sub_df.to_excel('Cleaned_dataset.xlsx',index=False)\n",
    "Sub_df.to_csv('./DatafinitiElectronicsProductsPricingData_Cleaned_dataset.csv',index=False)"
   ]
  }
 ],
 "metadata": {
  "kernelspec": {
   "display_name": "Python 3",
   "language": "python",
   "name": "python3"
  },
  "language_info": {
   "codemirror_mode": {
    "name": "ipython",
    "version": 3
   },
   "file_extension": ".py",
   "mimetype": "text/x-python",
   "name": "python",
   "nbconvert_exporter": "python",
   "pygments_lexer": "ipython3",
   "version": "3.11.5"
  },
  "papermill": {
   "default_parameters": {},
   "duration": 19.380269,
   "end_time": "2022-05-03T06:58:45.320838",
   "environment_variables": {},
   "exception": null,
   "input_path": "__notebook__.ipynb",
   "output_path": "__notebook__.ipynb",
   "parameters": {},
   "start_time": "2022-05-03T06:58:25.940569",
   "version": "2.3.4"
  }
 },
 "nbformat": 4,
 "nbformat_minor": 5
}
